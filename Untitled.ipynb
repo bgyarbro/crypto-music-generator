{
 "cells": [
  {
   "cell_type": "code",
   "execution_count": 1,
   "metadata": {},
   "outputs": [],
   "source": [
    "from pyo import *"
   ]
  },
  {
   "cell_type": "code",
   "execution_count": 2,
   "metadata": {},
   "outputs": [],
   "source": [
    "import numpy as np\n",
    "import time\n",
    "import pandas as pd\n",
    "\n",
    "import websocket, json\n",
    "\n",
    "import pickle"
   ]
  },
  {
   "cell_type": "code",
   "execution_count": 3,
   "metadata": {},
   "outputs": [
    {
     "name": "stdout",
     "output_type": "stream",
     "text": [
      "2c4d8cd90e2d7fc41a5b9299d95cbf2f3d51897aa84ec869dd0ddac19e74d694\r\n"
     ]
    }
   ],
   "source": [
    "!docker run -d -p 27017:27017 --name crypto_streaming mongo"
   ]
  },
  {
   "cell_type": "code",
   "execution_count": 28,
   "metadata": {},
   "outputs": [],
   "source": [
    "from pymongo import MongoClient\n",
    "client = MongoClient(\"mongodb://localhost:27017/\")\n",
    "db = client.crypto\n",
    "collection = db.crypto_collection"
   ]
  },
  {
   "cell_type": "code",
   "execution_count": 4,
   "metadata": {},
   "outputs": [
    {
     "name": "stdout",
     "output_type": "stream",
     "text": [
      "Pyo warning: Portaudio input device `MacBook Air Microphone` has fewer channels (1) than requested (2).\n",
      "Pyo warning: Portmidi warning: no midi device found!\n",
      "Portmidi closed.\n"
     ]
    }
   ],
   "source": [
    "s = Server().boot()"
   ]
  },
  {
   "cell_type": "code",
   "execution_count": 5,
   "metadata": {},
   "outputs": [
    {
     "data": {
      "text/plain": [
       "<pyo.lib.server.Server at 0x7fb1109aa880>"
      ]
     },
     "execution_count": 5,
     "metadata": {},
     "output_type": "execute_result"
    }
   ],
   "source": [
    "s.start()"
   ]
  },
  {
   "cell_type": "code",
   "execution_count": 6,
   "metadata": {},
   "outputs": [],
   "source": [
    "wav = SquareTable()"
   ]
  },
  {
   "cell_type": "code",
   "execution_count": 7,
   "metadata": {},
   "outputs": [],
   "source": [
    "beat = Metro(time=.125, poly=1).play()"
   ]
  },
  {
   "cell_type": "code",
   "execution_count": 8,
   "metadata": {},
   "outputs": [],
   "source": [
    "envelope = CosTable([(0,0), (100,1), (500,.3), (8191,0)])"
   ]
  },
  {
   "cell_type": "code",
   "execution_count": 9,
   "metadata": {},
   "outputs": [],
   "source": [
    "amplitude = TrigEnv(beat, table=envelope, dur=.25, mul=0.7)"
   ]
  },
  {
   "cell_type": "code",
   "execution_count": 10,
   "metadata": {},
   "outputs": [],
   "source": [
    "pitch = TrigXnoiseMidi(beat, dist=8, scale=0, mrange=(48,96))"
   ]
  },
  {
   "cell_type": "code",
   "execution_count": 11,
   "metadata": {},
   "outputs": [],
   "source": [
    "oscillator = Osc(table=wav, freq=pitch, mul=amplitude).out()"
   ]
  },
  {
   "cell_type": "code",
   "execution_count": 12,
   "metadata": {},
   "outputs": [
    {
     "data": {
      "text/plain": [
       "< Instance of Osc class >"
      ]
     },
     "execution_count": 12,
     "metadata": {},
     "output_type": "execute_result"
    }
   ],
   "source": [
    "oscillator.stop()"
   ]
  },
  {
   "cell_type": "code",
   "execution_count": null,
   "metadata": {},
   "outputs": [],
   "source": [
    "# times = np.random.uniform(size=5)\n",
    "# pitches = np.random.randint(24, 56, size=20)\n",
    "# scale"
   ]
  },
  {
   "cell_type": "code",
   "execution_count": null,
   "metadata": {},
   "outputs": [],
   "source": [
    "# for i in range(20):\n",
    "#     if i % 4 == 0:\n",
    "#         t = float(round(times[i//4] + .125, 3))\n",
    "#         print(t)\n",
    "#         beat = Metro(time = t, poly=1).play()\n",
    "#     envelope = CosTable([(0,0), (100,1), (500,.3), (8191,0)])\n",
    "#     amplitude = TrigEnv(beat, table=envelope, dur=.25, mul=0.7)\n",
    "#     pitch = TrigXnoiseMidi(beat, dist=8, scale=0, mrange=(pitches[i],96))\n",
    "    \n",
    "#     oscillator = Osc(table=wav, freq=pitch, mul=amplitude).out()\n",
    "    \n",
    "#     time.sleep(1)"
   ]
  },
  {
   "cell_type": "code",
   "execution_count": null,
   "metadata": {},
   "outputs": [],
   "source": []
  },
  {
   "cell_type": "code",
   "execution_count": null,
   "metadata": {},
   "outputs": [],
   "source": []
  },
  {
   "cell_type": "code",
   "execution_count": null,
   "metadata": {},
   "outputs": [],
   "source": []
  },
  {
   "cell_type": "code",
   "execution_count": 13,
   "metadata": {},
   "outputs": [],
   "source": [
    "socket = \"wss://ws-feed.pro.coinbase.com\""
   ]
  },
  {
   "cell_type": "code",
   "execution_count": 14,
   "metadata": {},
   "outputs": [],
   "source": [
    "subscribe = {\n",
    "    \"type\": \"subscribe\",\n",
    "    \"product_ids\": [\n",
    "        \"BTC-USD\",\n",
    "        \"ETH-USD\",\n",
    "        \"ETH-EUR\"\n",
    "    ],\n",
    "    \"channels\": [\n",
    "        \"level2\",\n",
    "        \"heartbeat\",\n",
    "        {\n",
    "            \"name\": \"ticker\",\n",
    "            \"product_ids\": [\n",
    "                \"BTC-USD\",\n",
    "                \"ETH-BTC\",\n",
    "                \"ETH-USD\"\n",
    "            ]\n",
    "        }\n",
    "    ]\n",
    "}"
   ]
  },
  {
   "cell_type": "code",
   "execution_count": 29,
   "metadata": {},
   "outputs": [],
   "source": [
    "dat = []"
   ]
  },
  {
   "cell_type": "code",
   "execution_count": 30,
   "metadata": {},
   "outputs": [],
   "source": [
    "def on_open(ws):\n",
    "    print('opened')\n",
    "    auth_data = subscribe\n",
    "    ws.send(json.dumps(auth_data))"
   ]
  },
  {
   "cell_type": "code",
   "execution_count": 31,
   "metadata": {},
   "outputs": [],
   "source": [
    "def on_message(ws, message):\n",
    "    #print('received a message:')\n",
    "    #print(message)\n",
    "    #collection.insert_one(eval(message))\n",
    "    \n",
    "    dat.append(eval(message))"
   ]
  },
  {
   "cell_type": "code",
   "execution_count": 32,
   "metadata": {},
   "outputs": [],
   "source": [
    "def on_message(ws, message):\n",
    "    #print('received a message:')\n",
    "    #print(message)\n",
    "    collection.insert_one(eval(message))\n",
    "    \n",
    "    dat.append(eval(message))"
   ]
  },
  {
   "cell_type": "code",
   "execution_count": 33,
   "metadata": {},
   "outputs": [],
   "source": [
    "ws = websocket.WebSocketApp(socket, on_open=on_open, on_message=on_message)"
   ]
  },
  {
   "cell_type": "code",
   "execution_count": 34,
   "metadata": {},
   "outputs": [
    {
     "name": "stdout",
     "output_type": "stream",
     "text": [
      "opened\n"
     ]
    },
    {
     "data": {
      "text/plain": [
       "False"
      ]
     },
     "execution_count": 34,
     "metadata": {},
     "output_type": "execute_result"
    }
   ],
   "source": [
    "ws.run_forever()"
   ]
  },
  {
   "cell_type": "code",
   "execution_count": 26,
   "metadata": {},
   "outputs": [],
   "source": []
  },
  {
   "cell_type": "code",
   "execution_count": 24,
   "metadata": {},
   "outputs": [
    {
     "data": {
      "text/plain": [
       "<pymongo.cursor.Cursor at 0x7fb0c008faf0>"
      ]
     },
     "execution_count": 24,
     "metadata": {},
     "output_type": "execute_result"
    }
   ],
   "source": [
    "#collection.find({'type':'l2update'})"
   ]
  },
  {
   "cell_type": "code",
   "execution_count": 85,
   "metadata": {},
   "outputs": [],
   "source": [
    "ticks = pd.DataFrame.from_dict(collection.find({'type':'ticker', 'product_id':'BTC-USD'}))"
   ]
  },
  {
   "cell_type": "code",
   "execution_count": 86,
   "metadata": {},
   "outputs": [
    {
     "data": {
      "text/html": [
       "<div>\n",
       "<style scoped>\n",
       "    .dataframe tbody tr th:only-of-type {\n",
       "        vertical-align: middle;\n",
       "    }\n",
       "\n",
       "    .dataframe tbody tr th {\n",
       "        vertical-align: top;\n",
       "    }\n",
       "\n",
       "    .dataframe thead th {\n",
       "        text-align: right;\n",
       "    }\n",
       "</style>\n",
       "<table border=\"1\" class=\"dataframe\">\n",
       "  <thead>\n",
       "    <tr style=\"text-align: right;\">\n",
       "      <th></th>\n",
       "      <th>_id</th>\n",
       "      <th>type</th>\n",
       "      <th>sequence</th>\n",
       "      <th>product_id</th>\n",
       "      <th>price</th>\n",
       "      <th>open_24h</th>\n",
       "      <th>volume_24h</th>\n",
       "      <th>low_24h</th>\n",
       "      <th>high_24h</th>\n",
       "      <th>volume_30d</th>\n",
       "      <th>best_bid</th>\n",
       "      <th>best_ask</th>\n",
       "      <th>side</th>\n",
       "      <th>time</th>\n",
       "      <th>trade_id</th>\n",
       "      <th>last_size</th>\n",
       "    </tr>\n",
       "  </thead>\n",
       "  <tbody>\n",
       "    <tr>\n",
       "      <th>0</th>\n",
       "      <td>610eb75dda494ce74df659e1</td>\n",
       "      <td>ticker</td>\n",
       "      <td>28068782093</td>\n",
       "      <td>BTC-USD</td>\n",
       "      <td>43530.73</td>\n",
       "      <td>42547.91</td>\n",
       "      <td>18873.97689217</td>\n",
       "      <td>42402.55</td>\n",
       "      <td>44600</td>\n",
       "      <td>406472.93342344</td>\n",
       "      <td>43530.72</td>\n",
       "      <td>43530.73</td>\n",
       "      <td>buy</td>\n",
       "      <td>2021-08-07T16:39:55.883830Z</td>\n",
       "      <td>200118555</td>\n",
       "      <td>0.00265573</td>\n",
       "    </tr>\n",
       "    <tr>\n",
       "      <th>1</th>\n",
       "      <td>610eb75eda494ce74df65d2f</td>\n",
       "      <td>ticker</td>\n",
       "      <td>28068782674</td>\n",
       "      <td>BTC-USD</td>\n",
       "      <td>43530.73</td>\n",
       "      <td>42547.91</td>\n",
       "      <td>18873.98238743</td>\n",
       "      <td>42402.55</td>\n",
       "      <td>44600</td>\n",
       "      <td>406472.93891870</td>\n",
       "      <td>43530.72</td>\n",
       "      <td>43530.73</td>\n",
       "      <td>buy</td>\n",
       "      <td>2021-08-07T16:39:57.187758Z</td>\n",
       "      <td>200118556</td>\n",
       "      <td>0.00549526</td>\n",
       "    </tr>\n",
       "    <tr>\n",
       "      <th>2</th>\n",
       "      <td>610eb75fda494ce74df65ddf</td>\n",
       "      <td>ticker</td>\n",
       "      <td>28068782776</td>\n",
       "      <td>BTC-USD</td>\n",
       "      <td>43530.73</td>\n",
       "      <td>42547.91</td>\n",
       "      <td>18873.99923644</td>\n",
       "      <td>42402.55</td>\n",
       "      <td>44600</td>\n",
       "      <td>406472.95576771</td>\n",
       "      <td>43530.72</td>\n",
       "      <td>43530.73</td>\n",
       "      <td>buy</td>\n",
       "      <td>2021-08-07T16:39:57.337192Z</td>\n",
       "      <td>200118557</td>\n",
       "      <td>0.01684901</td>\n",
       "    </tr>\n",
       "    <tr>\n",
       "      <th>3</th>\n",
       "      <td>610eb75fda494ce74df65de1</td>\n",
       "      <td>ticker</td>\n",
       "      <td>28068782778</td>\n",
       "      <td>BTC-USD</td>\n",
       "      <td>43530.73</td>\n",
       "      <td>42547.91</td>\n",
       "      <td>18874.02199213</td>\n",
       "      <td>42402.55</td>\n",
       "      <td>44600</td>\n",
       "      <td>406472.97852340</td>\n",
       "      <td>43530.72</td>\n",
       "      <td>43530.74</td>\n",
       "      <td>buy</td>\n",
       "      <td>2021-08-07T16:39:57.337192Z</td>\n",
       "      <td>200118558</td>\n",
       "      <td>0.02275569</td>\n",
       "    </tr>\n",
       "    <tr>\n",
       "      <th>4</th>\n",
       "      <td>610eb75fda494ce74df65de5</td>\n",
       "      <td>ticker</td>\n",
       "      <td>28068782780</td>\n",
       "      <td>BTC-USD</td>\n",
       "      <td>43530.74</td>\n",
       "      <td>42547.91</td>\n",
       "      <td>18874.04474782</td>\n",
       "      <td>42402.55</td>\n",
       "      <td>44600</td>\n",
       "      <td>406473.00127909</td>\n",
       "      <td>43530.72</td>\n",
       "      <td>43541.58</td>\n",
       "      <td>buy</td>\n",
       "      <td>2021-08-07T16:39:57.337192Z</td>\n",
       "      <td>200118559</td>\n",
       "      <td>0.02275569</td>\n",
       "    </tr>\n",
       "  </tbody>\n",
       "</table>\n",
       "</div>"
      ],
      "text/plain": [
       "                        _id    type     sequence product_id     price  \\\n",
       "0  610eb75dda494ce74df659e1  ticker  28068782093    BTC-USD  43530.73   \n",
       "1  610eb75eda494ce74df65d2f  ticker  28068782674    BTC-USD  43530.73   \n",
       "2  610eb75fda494ce74df65ddf  ticker  28068782776    BTC-USD  43530.73   \n",
       "3  610eb75fda494ce74df65de1  ticker  28068782778    BTC-USD  43530.73   \n",
       "4  610eb75fda494ce74df65de5  ticker  28068782780    BTC-USD  43530.74   \n",
       "\n",
       "   open_24h      volume_24h   low_24h high_24h       volume_30d  best_bid  \\\n",
       "0  42547.91  18873.97689217  42402.55    44600  406472.93342344  43530.72   \n",
       "1  42547.91  18873.98238743  42402.55    44600  406472.93891870  43530.72   \n",
       "2  42547.91  18873.99923644  42402.55    44600  406472.95576771  43530.72   \n",
       "3  42547.91  18874.02199213  42402.55    44600  406472.97852340  43530.72   \n",
       "4  42547.91  18874.04474782  42402.55    44600  406473.00127909  43530.72   \n",
       "\n",
       "   best_ask side                         time   trade_id   last_size  \n",
       "0  43530.73  buy  2021-08-07T16:39:55.883830Z  200118555  0.00265573  \n",
       "1  43530.73  buy  2021-08-07T16:39:57.187758Z  200118556  0.00549526  \n",
       "2  43530.73  buy  2021-08-07T16:39:57.337192Z  200118557  0.01684901  \n",
       "3  43530.74  buy  2021-08-07T16:39:57.337192Z  200118558  0.02275569  \n",
       "4  43541.58  buy  2021-08-07T16:39:57.337192Z  200118559  0.02275569  "
      ]
     },
     "execution_count": 86,
     "metadata": {},
     "output_type": "execute_result"
    }
   ],
   "source": [
    "ticks.head()"
   ]
  },
  {
   "cell_type": "code",
   "execution_count": 75,
   "metadata": {},
   "outputs": [],
   "source": [
    "df = pd.DataFrame.from_dict(collection.find({'type':'l2update', 'product_id':'BTC-USD'}))"
   ]
  },
  {
   "cell_type": "code",
   "execution_count": 76,
   "metadata": {},
   "outputs": [
    {
     "data": {
      "text/html": [
       "<div>\n",
       "<style scoped>\n",
       "    .dataframe tbody tr th:only-of-type {\n",
       "        vertical-align: middle;\n",
       "    }\n",
       "\n",
       "    .dataframe tbody tr th {\n",
       "        vertical-align: top;\n",
       "    }\n",
       "\n",
       "    .dataframe thead th {\n",
       "        text-align: right;\n",
       "    }\n",
       "</style>\n",
       "<table border=\"1\" class=\"dataframe\">\n",
       "  <thead>\n",
       "    <tr style=\"text-align: right;\">\n",
       "      <th></th>\n",
       "      <th>_id</th>\n",
       "      <th>type</th>\n",
       "      <th>product_id</th>\n",
       "      <th>changes</th>\n",
       "      <th>time</th>\n",
       "    </tr>\n",
       "  </thead>\n",
       "  <tbody>\n",
       "    <tr>\n",
       "      <th>0</th>\n",
       "      <td>610eb75dda494ce74df659e2</td>\n",
       "      <td>l2update</td>\n",
       "      <td>BTC-USD</td>\n",
       "      <td>[[sell, 43530.73, 0.04808990]]</td>\n",
       "      <td>2021-08-07T16:39:56.270963Z</td>\n",
       "    </tr>\n",
       "    <tr>\n",
       "      <th>1</th>\n",
       "      <td>610eb75dda494ce74df659e3</td>\n",
       "      <td>l2update</td>\n",
       "      <td>BTC-USD</td>\n",
       "      <td>[[buy, 43479.66, 0.16800000]]</td>\n",
       "      <td>2021-08-07T16:39:56.273448Z</td>\n",
       "    </tr>\n",
       "    <tr>\n",
       "      <th>2</th>\n",
       "      <td>610eb75dda494ce74df659e4</td>\n",
       "      <td>l2update</td>\n",
       "      <td>BTC-USD</td>\n",
       "      <td>[[sell, 43532.06, 0.00000000]]</td>\n",
       "      <td>2021-08-07T16:39:56.276568Z</td>\n",
       "    </tr>\n",
       "    <tr>\n",
       "      <th>3</th>\n",
       "      <td>610eb75dda494ce74df659e5</td>\n",
       "      <td>l2update</td>\n",
       "      <td>BTC-USD</td>\n",
       "      <td>[[buy, 43525.71, 0.16880000]]</td>\n",
       "      <td>2021-08-07T16:39:56.276779Z</td>\n",
       "    </tr>\n",
       "    <tr>\n",
       "      <th>4</th>\n",
       "      <td>610eb75dda494ce74df659e6</td>\n",
       "      <td>l2update</td>\n",
       "      <td>BTC-USD</td>\n",
       "      <td>[[buy, 43524.91, 0.16880000]]</td>\n",
       "      <td>2021-08-07T16:39:56.276779Z</td>\n",
       "    </tr>\n",
       "  </tbody>\n",
       "</table>\n",
       "</div>"
      ],
      "text/plain": [
       "                        _id      type product_id  \\\n",
       "0  610eb75dda494ce74df659e2  l2update    BTC-USD   \n",
       "1  610eb75dda494ce74df659e3  l2update    BTC-USD   \n",
       "2  610eb75dda494ce74df659e4  l2update    BTC-USD   \n",
       "3  610eb75dda494ce74df659e5  l2update    BTC-USD   \n",
       "4  610eb75dda494ce74df659e6  l2update    BTC-USD   \n",
       "\n",
       "                          changes                         time  \n",
       "0  [[sell, 43530.73, 0.04808990]]  2021-08-07T16:39:56.270963Z  \n",
       "1   [[buy, 43479.66, 0.16800000]]  2021-08-07T16:39:56.273448Z  \n",
       "2  [[sell, 43532.06, 0.00000000]]  2021-08-07T16:39:56.276568Z  \n",
       "3   [[buy, 43525.71, 0.16880000]]  2021-08-07T16:39:56.276779Z  \n",
       "4   [[buy, 43524.91, 0.16880000]]  2021-08-07T16:39:56.276779Z  "
      ]
     },
     "execution_count": 76,
     "metadata": {},
     "output_type": "execute_result"
    }
   ],
   "source": [
    "df.head()"
   ]
  },
  {
   "cell_type": "code",
   "execution_count": 77,
   "metadata": {},
   "outputs": [],
   "source": [
    "#df.explode('changes').explode('changes')"
   ]
  },
  {
   "cell_type": "code",
   "execution_count": 78,
   "metadata": {},
   "outputs": [],
   "source": [
    "#df['new'] = pd.DataFrame(df.changes.to_list(), index=df.index)"
   ]
  },
  {
   "cell_type": "code",
   "execution_count": 79,
   "metadata": {},
   "outputs": [],
   "source": [
    "#df.head()"
   ]
  },
  {
   "cell_type": "code",
   "execution_count": 80,
   "metadata": {},
   "outputs": [],
   "source": [
    "#pd.DataFrame(df.changes.to_list(), index=df.index)"
   ]
  },
  {
   "cell_type": "code",
   "execution_count": 81,
   "metadata": {},
   "outputs": [],
   "source": [
    "#df.changes.to_list()"
   ]
  },
  {
   "cell_type": "code",
   "execution_count": 82,
   "metadata": {},
   "outputs": [],
   "source": [
    "#pd.DataFrame(df.changes.to_list()[0], index=df.index)"
   ]
  },
  {
   "cell_type": "code",
   "execution_count": 83,
   "metadata": {},
   "outputs": [],
   "source": [
    "df[['buy_sell', 'price', 'amount']] = pd.DataFrame(df.changes.to_list()[0], index=df.index)"
   ]
  },
  {
   "cell_type": "code",
   "execution_count": 84,
   "metadata": {},
   "outputs": [
    {
     "data": {
      "text/html": [
       "<div>\n",
       "<style scoped>\n",
       "    .dataframe tbody tr th:only-of-type {\n",
       "        vertical-align: middle;\n",
       "    }\n",
       "\n",
       "    .dataframe tbody tr th {\n",
       "        vertical-align: top;\n",
       "    }\n",
       "\n",
       "    .dataframe thead th {\n",
       "        text-align: right;\n",
       "    }\n",
       "</style>\n",
       "<table border=\"1\" class=\"dataframe\">\n",
       "  <thead>\n",
       "    <tr style=\"text-align: right;\">\n",
       "      <th></th>\n",
       "      <th>_id</th>\n",
       "      <th>type</th>\n",
       "      <th>product_id</th>\n",
       "      <th>changes</th>\n",
       "      <th>time</th>\n",
       "      <th>buy_sell</th>\n",
       "      <th>price</th>\n",
       "      <th>amount</th>\n",
       "    </tr>\n",
       "  </thead>\n",
       "  <tbody>\n",
       "    <tr>\n",
       "      <th>0</th>\n",
       "      <td>610eb75dda494ce74df659e2</td>\n",
       "      <td>l2update</td>\n",
       "      <td>BTC-USD</td>\n",
       "      <td>[[sell, 43530.73, 0.04808990]]</td>\n",
       "      <td>2021-08-07T16:39:56.270963Z</td>\n",
       "      <td>sell</td>\n",
       "      <td>43530.73</td>\n",
       "      <td>0.04808990</td>\n",
       "    </tr>\n",
       "    <tr>\n",
       "      <th>1</th>\n",
       "      <td>610eb75dda494ce74df659e3</td>\n",
       "      <td>l2update</td>\n",
       "      <td>BTC-USD</td>\n",
       "      <td>[[buy, 43479.66, 0.16800000]]</td>\n",
       "      <td>2021-08-07T16:39:56.273448Z</td>\n",
       "      <td>sell</td>\n",
       "      <td>43530.73</td>\n",
       "      <td>0.04808990</td>\n",
       "    </tr>\n",
       "    <tr>\n",
       "      <th>2</th>\n",
       "      <td>610eb75dda494ce74df659e4</td>\n",
       "      <td>l2update</td>\n",
       "      <td>BTC-USD</td>\n",
       "      <td>[[sell, 43532.06, 0.00000000]]</td>\n",
       "      <td>2021-08-07T16:39:56.276568Z</td>\n",
       "      <td>sell</td>\n",
       "      <td>43530.73</td>\n",
       "      <td>0.04808990</td>\n",
       "    </tr>\n",
       "    <tr>\n",
       "      <th>3</th>\n",
       "      <td>610eb75dda494ce74df659e5</td>\n",
       "      <td>l2update</td>\n",
       "      <td>BTC-USD</td>\n",
       "      <td>[[buy, 43525.71, 0.16880000]]</td>\n",
       "      <td>2021-08-07T16:39:56.276779Z</td>\n",
       "      <td>sell</td>\n",
       "      <td>43530.73</td>\n",
       "      <td>0.04808990</td>\n",
       "    </tr>\n",
       "    <tr>\n",
       "      <th>4</th>\n",
       "      <td>610eb75dda494ce74df659e6</td>\n",
       "      <td>l2update</td>\n",
       "      <td>BTC-USD</td>\n",
       "      <td>[[buy, 43524.91, 0.16880000]]</td>\n",
       "      <td>2021-08-07T16:39:56.276779Z</td>\n",
       "      <td>sell</td>\n",
       "      <td>43530.73</td>\n",
       "      <td>0.04808990</td>\n",
       "    </tr>\n",
       "  </tbody>\n",
       "</table>\n",
       "</div>"
      ],
      "text/plain": [
       "                        _id      type product_id  \\\n",
       "0  610eb75dda494ce74df659e2  l2update    BTC-USD   \n",
       "1  610eb75dda494ce74df659e3  l2update    BTC-USD   \n",
       "2  610eb75dda494ce74df659e4  l2update    BTC-USD   \n",
       "3  610eb75dda494ce74df659e5  l2update    BTC-USD   \n",
       "4  610eb75dda494ce74df659e6  l2update    BTC-USD   \n",
       "\n",
       "                          changes                         time buy_sell  \\\n",
       "0  [[sell, 43530.73, 0.04808990]]  2021-08-07T16:39:56.270963Z     sell   \n",
       "1   [[buy, 43479.66, 0.16800000]]  2021-08-07T16:39:56.273448Z     sell   \n",
       "2  [[sell, 43532.06, 0.00000000]]  2021-08-07T16:39:56.276568Z     sell   \n",
       "3   [[buy, 43525.71, 0.16880000]]  2021-08-07T16:39:56.276779Z     sell   \n",
       "4   [[buy, 43524.91, 0.16880000]]  2021-08-07T16:39:56.276779Z     sell   \n",
       "\n",
       "      price      amount  \n",
       "0  43530.73  0.04808990  \n",
       "1  43530.73  0.04808990  \n",
       "2  43530.73  0.04808990  \n",
       "3  43530.73  0.04808990  \n",
       "4  43530.73  0.04808990  "
      ]
     },
     "execution_count": 84,
     "metadata": {},
     "output_type": "execute_result"
    }
   ],
   "source": [
    "df.head()"
   ]
  },
  {
   "cell_type": "code",
   "execution_count": null,
   "metadata": {},
   "outputs": [],
   "source": []
  },
  {
   "cell_type": "code",
   "execution_count": null,
   "metadata": {},
   "outputs": [],
   "source": [
    "dat[:1]"
   ]
  },
  {
   "cell_type": "code",
   "execution_count": null,
   "metadata": {},
   "outputs": [],
   "source": [
    "len(dat)"
   ]
  },
  {
   "cell_type": "code",
   "execution_count": null,
   "metadata": {},
   "outputs": [],
   "source": [
    "pd.Series([t['type'] for t in dat]).value_counts()"
   ]
  },
  {
   "cell_type": "code",
   "execution_count": null,
   "metadata": {},
   "outputs": [],
   "source": [
    "BTC_ticker = [t for t in dat if t['type'] == 'ticker' and t['product_id'] == 'BTC-USD']"
   ]
  },
  {
   "cell_type": "code",
   "execution_count": null,
   "metadata": {},
   "outputs": [],
   "source": [
    "BTC_l2 = [t for t in dat if t['type'] == 'l2update' and t['product_id'] == 'BTC-USD']"
   ]
  },
  {
   "cell_type": "code",
   "execution_count": null,
   "metadata": {},
   "outputs": [],
   "source": [
    "BTC_snapshot = [t for t in dat if t['type'] == 'snapshot' and t['product_id'] == 'BTC-USD']"
   ]
  },
  {
   "cell_type": "code",
   "execution_count": null,
   "metadata": {},
   "outputs": [],
   "source": [
    "#BTC_snapshot"
   ]
  },
  {
   "cell_type": "code",
   "execution_count": null,
   "metadata": {},
   "outputs": [],
   "source": [
    "asks = pd.DataFrame(BTC_snapshot[0]['asks'])"
   ]
  },
  {
   "cell_type": "code",
   "execution_count": null,
   "metadata": {},
   "outputs": [],
   "source": [
    "asks.columns = ['price', 'size_BTC']\n",
    "asks.price = asks.price.astype(float)\n",
    "asks.size_BTC = asks.size_BTC.astype(float)"
   ]
  },
  {
   "cell_type": "code",
   "execution_count": null,
   "metadata": {},
   "outputs": [],
   "source": [
    "asks.head()"
   ]
  },
  {
   "cell_type": "code",
   "execution_count": null,
   "metadata": {},
   "outputs": [],
   "source": []
  },
  {
   "cell_type": "code",
   "execution_count": null,
   "metadata": {},
   "outputs": [],
   "source": [
    "asks_100 = asks.loc[asks.price < asks.price[0] + 100, :]"
   ]
  },
  {
   "cell_type": "code",
   "execution_count": null,
   "metadata": {},
   "outputs": [],
   "source": [
    "asks_100.head()"
   ]
  },
  {
   "cell_type": "code",
   "execution_count": null,
   "metadata": {},
   "outputs": [],
   "source": [
    "asks_100.size_BTC.sum()"
   ]
  },
  {
   "cell_type": "code",
   "execution_count": null,
   "metadata": {},
   "outputs": [],
   "source": [
    "df_l2 = pd.DataFrame(BTC_l2)"
   ]
  },
  {
   "cell_type": "code",
   "execution_count": null,
   "metadata": {},
   "outputs": [],
   "source": [
    "df_l2.head()"
   ]
  },
  {
   "cell_type": "code",
   "execution_count": null,
   "metadata": {},
   "outputs": [],
   "source": []
  },
  {
   "cell_type": "code",
   "execution_count": null,
   "metadata": {},
   "outputs": [],
   "source": [
    "BTC_l2[:5]"
   ]
  },
  {
   "cell_type": "code",
   "execution_count": null,
   "metadata": {},
   "outputs": [],
   "source": [
    "BTC_l2_clean = [{'type':blob['type'],\n",
    " 'product_id':blob['product_id'],\n",
    " 'buy_sell':blob['changes'][0][0],\n",
    " 'price':float(blob['changes'][0][1]),\n",
    " 'amount':float(blob['changes'][0][2]),\n",
    " 'time':blob['time']}\n",
    "for blob in BTC_l2]"
   ]
  },
  {
   "cell_type": "code",
   "execution_count": null,
   "metadata": {},
   "outputs": [],
   "source": [
    "df_l2 = pd.DataFrame(BTC_l2_clean)"
   ]
  },
  {
   "cell_type": "code",
   "execution_count": null,
   "metadata": {},
   "outputs": [],
   "source": [
    "df_l2.head()"
   ]
  },
  {
   "cell_type": "code",
   "execution_count": null,
   "metadata": {},
   "outputs": [],
   "source": [
    "df_l2['time_format'] = pd.to_datetime(df_l2.time)"
   ]
  },
  {
   "cell_type": "code",
   "execution_count": null,
   "metadata": {},
   "outputs": [],
   "source": [
    "df_l2.head()"
   ]
  },
  {
   "cell_type": "code",
   "execution_count": null,
   "metadata": {},
   "outputs": [],
   "source": [
    "df_l2.info()"
   ]
  },
  {
   "cell_type": "code",
   "execution_count": null,
   "metadata": {},
   "outputs": [],
   "source": [
    "df_l2['dt'] = df_l2.time_format.dt.floor('s')"
   ]
  },
  {
   "cell_type": "code",
   "execution_count": null,
   "metadata": {},
   "outputs": [],
   "source": [
    "df_l2.head()"
   ]
  },
  {
   "cell_type": "code",
   "execution_count": null,
   "metadata": {},
   "outputs": [],
   "source": [
    "df_buys = df_l2[df_l2.buy_sell == 'buy']"
   ]
  },
  {
   "cell_type": "code",
   "execution_count": null,
   "metadata": {},
   "outputs": [],
   "source": [
    "df_buys.groupby('dt').amount.sum()"
   ]
  },
  {
   "cell_type": "code",
   "execution_count": null,
   "metadata": {},
   "outputs": [],
   "source": [
    "deltas = df_buys.groupby('dt').amount.sum()[1:].pct_change()[1:]"
   ]
  },
  {
   "cell_type": "code",
   "execution_count": null,
   "metadata": {},
   "outputs": [],
   "source": [
    "deltas"
   ]
  },
  {
   "cell_type": "code",
   "execution_count": null,
   "metadata": {},
   "outputs": [],
   "source": [
    "# time change logic [.125, .125 * (1+.7), "
   ]
  },
  {
   "cell_type": "markdown",
   "metadata": {},
   "source": [
    "# BTC Make Music"
   ]
  },
  {
   "cell_type": "code",
   "execution_count": null,
   "metadata": {},
   "outputs": [],
   "source": [
    "t = .14\n",
    "\n",
    "for i in deltas:\n",
    "    #if i % 4 == 0:\n",
    "        #t = float(round(times[i//4] + .125, 3))\n",
    "        #print(t)\n",
    "    t = t * (1+i)\n",
    "    beat = Metro(time = t, poly=1).play()\n",
    "    envelope = CosTable([(0,0), (100,1), (500,.3), (8191,0)])\n",
    "    amplitude = TrigEnv(beat, table=envelope, dur=.25, mul=0.7)\n",
    "    pitch = TrigXnoiseMidi(beat, dist=8, scale=0, mrange=(48,96))\n",
    "    \n",
    "    oscillator = Osc(table=wav, freq=pitch, mul=amplitude).out()\n",
    "    \n",
    "    time.sleep(1)"
   ]
  },
  {
   "cell_type": "code",
   "execution_count": null,
   "metadata": {},
   "outputs": [],
   "source": [
    "oscillator.stop()"
   ]
  },
  {
   "cell_type": "code",
   "execution_count": null,
   "metadata": {},
   "outputs": [],
   "source": []
  },
  {
   "cell_type": "code",
   "execution_count": null,
   "metadata": {},
   "outputs": [],
   "source": [
    "sma20week = pickle.load(open('sma20week.pkl', 'rb'))"
   ]
  },
  {
   "cell_type": "code",
   "execution_count": null,
   "metadata": {},
   "outputs": [],
   "source": [
    "sma20week"
   ]
  },
  {
   "cell_type": "code",
   "execution_count": null,
   "metadata": {},
   "outputs": [],
   "source": [
    "(96 - 48) / 2 + 48"
   ]
  },
  {
   "cell_type": "code",
   "execution_count": null,
   "metadata": {},
   "outputs": [],
   "source": [
    "72 +/- % away from the 20weekSMA rounded to whole number"
   ]
  },
  {
   "cell_type": "code",
   "execution_count": null,
   "metadata": {},
   "outputs": [],
   "source": [
    "# median price per second\n",
    "df_buys.groupby('dt').price.median()[1:]"
   ]
  },
  {
   "cell_type": "code",
   "execution_count": null,
   "metadata": {},
   "outputs": [],
   "source": [
    "df_buys.groupby('dt').price.median()[1:] / sma20week"
   ]
  },
  {
   "cell_type": "code",
   "execution_count": null,
   "metadata": {},
   "outputs": [],
   "source": []
  },
  {
   "cell_type": "code",
   "execution_count": null,
   "metadata": {},
   "outputs": [],
   "source": []
  },
  {
   "cell_type": "code",
   "execution_count": 87,
   "metadata": {},
   "outputs": [
    {
     "name": "stdout",
     "output_type": "stream",
     "text": [
      "crypto_streaming\n",
      "crypto_streaming\n"
     ]
    }
   ],
   "source": [
    "!docker kill crypto_streaming\n",
    "!docker rm crypto_streaming"
   ]
  },
  {
   "cell_type": "code",
   "execution_count": null,
   "metadata": {},
   "outputs": [],
   "source": []
  }
 ],
 "metadata": {
  "kernelspec": {
   "display_name": "Python 3",
   "language": "python",
   "name": "python3"
  },
  "language_info": {
   "codemirror_mode": {
    "name": "ipython",
    "version": 3
   },
   "file_extension": ".py",
   "mimetype": "text/x-python",
   "name": "python",
   "nbconvert_exporter": "python",
   "pygments_lexer": "ipython3",
   "version": "3.8.5"
  }
 },
 "nbformat": 4,
 "nbformat_minor": 4
}
