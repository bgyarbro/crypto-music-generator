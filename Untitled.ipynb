{
 "cells": [
  {
   "cell_type": "code",
   "execution_count": 1,
   "metadata": {},
   "outputs": [],
   "source": [
    "from pyo import *"
   ]
  },
  {
   "cell_type": "code",
   "execution_count": 14,
   "metadata": {},
   "outputs": [],
   "source": [
    "import numpy as np\n",
    "import time\n",
    "import pandas as pd\n",
    "\n",
    "import websocket, json"
   ]
  },
  {
   "cell_type": "code",
   "execution_count": 3,
   "metadata": {},
   "outputs": [
    {
     "name": "stdout",
     "output_type": "stream",
     "text": [
      "Pyo warning: Portaudio input device `MacBook Air Microphone` has fewer channels (1) than requested (2).\n",
      "Pyo warning: Portmidi warning: no midi device found!\n",
      "Portmidi closed.\n"
     ]
    }
   ],
   "source": [
    "s = Server().boot()"
   ]
  },
  {
   "cell_type": "code",
   "execution_count": 4,
   "metadata": {},
   "outputs": [
    {
     "data": {
      "text/plain": [
       "<pyo.lib.server.Server at 0x7fcf99172820>"
      ]
     },
     "execution_count": 4,
     "metadata": {},
     "output_type": "execute_result"
    }
   ],
   "source": [
    "s.start()"
   ]
  },
  {
   "cell_type": "code",
   "execution_count": 5,
   "metadata": {},
   "outputs": [],
   "source": [
    "wav = SquareTable()"
   ]
  },
  {
   "cell_type": "code",
   "execution_count": 6,
   "metadata": {},
   "outputs": [],
   "source": [
    "beat = Metro(time=.125, poly=1).play()"
   ]
  },
  {
   "cell_type": "code",
   "execution_count": 7,
   "metadata": {},
   "outputs": [],
   "source": [
    "envelope = CosTable([(0,0), (100,1), (500,.3), (8191,0)])"
   ]
  },
  {
   "cell_type": "code",
   "execution_count": 8,
   "metadata": {},
   "outputs": [],
   "source": [
    "amplitude = TrigEnv(beat, table=envelope, dur=.25, mul=0.7)"
   ]
  },
  {
   "cell_type": "code",
   "execution_count": 9,
   "metadata": {},
   "outputs": [],
   "source": [
    "pitch = TrigXnoiseMidi(beat, dist=8, scale=0, mrange=(48,96))"
   ]
  },
  {
   "cell_type": "code",
   "execution_count": 10,
   "metadata": {},
   "outputs": [],
   "source": [
    "oscillator = Osc(table=wav, freq=pitch, mul=amplitude).out()"
   ]
  },
  {
   "cell_type": "code",
   "execution_count": 11,
   "metadata": {},
   "outputs": [
    {
     "data": {
      "text/plain": [
       "< Instance of Osc class >"
      ]
     },
     "execution_count": 11,
     "metadata": {},
     "output_type": "execute_result"
    }
   ],
   "source": [
    "oscillator.stop()"
   ]
  },
  {
   "cell_type": "code",
   "execution_count": 12,
   "metadata": {},
   "outputs": [],
   "source": [
    "# times = np.random.uniform(size=5)\n",
    "# pitches = np.random.randint(24, 56, size=20)\n",
    "# scale"
   ]
  },
  {
   "cell_type": "code",
   "execution_count": 13,
   "metadata": {},
   "outputs": [],
   "source": [
    "# for i in range(20):\n",
    "#     if i % 4 == 0:\n",
    "#         t = float(round(times[i//4] + .125, 3))\n",
    "#         print(t)\n",
    "#         beat = Metro(time = t, poly=1).play()\n",
    "#     envelope = CosTable([(0,0), (100,1), (500,.3), (8191,0)])\n",
    "#     amplitude = TrigEnv(beat, table=envelope, dur=.25, mul=0.7)\n",
    "#     pitch = TrigXnoiseMidi(beat, dist=8, scale=0, mrange=(pitches[i],96))\n",
    "    \n",
    "#     oscillator = Osc(table=wav, freq=pitch, mul=amplitude).out()\n",
    "    \n",
    "#     time.sleep(1)"
   ]
  },
  {
   "cell_type": "code",
   "execution_count": null,
   "metadata": {},
   "outputs": [],
   "source": []
  },
  {
   "cell_type": "code",
   "execution_count": null,
   "metadata": {},
   "outputs": [],
   "source": []
  },
  {
   "cell_type": "code",
   "execution_count": null,
   "metadata": {},
   "outputs": [],
   "source": []
  },
  {
   "cell_type": "code",
   "execution_count": 15,
   "metadata": {},
   "outputs": [],
   "source": [
    "socket = \"wss://ws-feed.pro.coinbase.com\""
   ]
  },
  {
   "cell_type": "code",
   "execution_count": 16,
   "metadata": {},
   "outputs": [],
   "source": [
    "subscribe = {\n",
    "    \"type\": \"subscribe\",\n",
    "    \"product_ids\": [\n",
    "        \"BTC-USD\",\n",
    "        \"ETH-USD\",\n",
    "        \"ETH-EUR\"\n",
    "    ],\n",
    "    \"channels\": [\n",
    "        \"level2\",\n",
    "        \"heartbeat\",\n",
    "        {\n",
    "            \"name\": \"ticker\",\n",
    "            \"product_ids\": [\n",
    "                \"BTC-USD\",\n",
    "                \"ETH-BTC\",\n",
    "                \"ETH-USD\"\n",
    "            ]\n",
    "        }\n",
    "    ]\n",
    "}"
   ]
  },
  {
   "cell_type": "code",
   "execution_count": 17,
   "metadata": {},
   "outputs": [],
   "source": [
    "dat = []"
   ]
  },
  {
   "cell_type": "code",
   "execution_count": 18,
   "metadata": {},
   "outputs": [],
   "source": [
    "def on_open(ws):\n",
    "    print('opened')\n",
    "    auth_data = subscribe\n",
    "    ws.send(json.dumps(auth_data))"
   ]
  },
  {
   "cell_type": "code",
   "execution_count": 19,
   "metadata": {},
   "outputs": [],
   "source": [
    "def on_message(ws, message):\n",
    "    #print('received a message:')\n",
    "    #print(message)\n",
    "    #collection.insert_one(eval(message))\n",
    "    \n",
    "    dat.append(eval(message))"
   ]
  },
  {
   "cell_type": "code",
   "execution_count": 20,
   "metadata": {},
   "outputs": [],
   "source": [
    "ws = websocket.WebSocketApp(socket, on_open=on_open, on_message=on_message)"
   ]
  },
  {
   "cell_type": "code",
   "execution_count": 21,
   "metadata": {},
   "outputs": [
    {
     "name": "stdout",
     "output_type": "stream",
     "text": [
      "opened\n"
     ]
    },
    {
     "data": {
      "text/plain": [
       "False"
      ]
     },
     "execution_count": 21,
     "metadata": {},
     "output_type": "execute_result"
    }
   ],
   "source": [
    "ws.run_forever()"
   ]
  },
  {
   "cell_type": "code",
   "execution_count": 52,
   "metadata": {},
   "outputs": [
    {
     "data": {
      "text/plain": [
       "[{'type': 'subscriptions',\n",
       "  'channels': [{'name': 'level2',\n",
       "    'product_ids': ['BTC-USD', 'ETH-USD', 'ETH-EUR']},\n",
       "   {'name': 'heartbeat', 'product_ids': ['BTC-USD', 'ETH-USD', 'ETH-EUR']},\n",
       "   {'name': 'ticker',\n",
       "    'product_ids': ['BTC-USD', 'ETH-USD', 'ETH-EUR', 'ETH-BTC']}]}]"
      ]
     },
     "execution_count": 52,
     "metadata": {},
     "output_type": "execute_result"
    }
   ],
   "source": [
    "dat[:1]"
   ]
  },
  {
   "cell_type": "code",
   "execution_count": 23,
   "metadata": {},
   "outputs": [
    {
     "data": {
      "text/plain": [
       "42459"
      ]
     },
     "execution_count": 23,
     "metadata": {},
     "output_type": "execute_result"
    }
   ],
   "source": [
    "len(dat)"
   ]
  },
  {
   "cell_type": "code",
   "execution_count": 24,
   "metadata": {},
   "outputs": [
    {
     "data": {
      "text/plain": [
       "l2update         41128\n",
       "ticker            1210\n",
       "heartbeat          117\n",
       "snapshot             3\n",
       "subscriptions        1\n",
       "dtype: int64"
      ]
     },
     "execution_count": 24,
     "metadata": {},
     "output_type": "execute_result"
    }
   ],
   "source": [
    "pd.Series([t['type'] for t in dat]).value_counts()"
   ]
  },
  {
   "cell_type": "code",
   "execution_count": 25,
   "metadata": {},
   "outputs": [],
   "source": [
    "BTC_ticker = [t for t in dat if t['type'] == 'ticker' and t['product_id'] == 'BTC-USD']"
   ]
  },
  {
   "cell_type": "code",
   "execution_count": 26,
   "metadata": {},
   "outputs": [],
   "source": [
    "BTC_l2 = [t for t in dat if t['type'] == 'l2update' and t['product_id'] == 'BTC-USD']"
   ]
  },
  {
   "cell_type": "code",
   "execution_count": 27,
   "metadata": {},
   "outputs": [],
   "source": [
    "BTC_snapshot = [t for t in dat if t['type'] == 'snapshot' and t['product_id'] == 'BTC-USD']"
   ]
  },
  {
   "cell_type": "code",
   "execution_count": 55,
   "metadata": {},
   "outputs": [],
   "source": [
    "#BTC_snapshot"
   ]
  },
  {
   "cell_type": "code",
   "execution_count": 29,
   "metadata": {},
   "outputs": [],
   "source": [
    "asks = pd.DataFrame(BTC_snapshot[0]['asks'])"
   ]
  },
  {
   "cell_type": "code",
   "execution_count": 30,
   "metadata": {},
   "outputs": [],
   "source": [
    "asks.columns = ['price', 'size_BTC']\n",
    "asks.price = asks.price.astype(float)\n",
    "asks.size_BTC = asks.size_BTC.astype(float)"
   ]
  },
  {
   "cell_type": "code",
   "execution_count": 31,
   "metadata": {},
   "outputs": [
    {
     "data": {
      "text/html": [
       "<div>\n",
       "<style scoped>\n",
       "    .dataframe tbody tr th:only-of-type {\n",
       "        vertical-align: middle;\n",
       "    }\n",
       "\n",
       "    .dataframe tbody tr th {\n",
       "        vertical-align: top;\n",
       "    }\n",
       "\n",
       "    .dataframe thead th {\n",
       "        text-align: right;\n",
       "    }\n",
       "</style>\n",
       "<table border=\"1\" class=\"dataframe\">\n",
       "  <thead>\n",
       "    <tr style=\"text-align: right;\">\n",
       "      <th></th>\n",
       "      <th>price</th>\n",
       "      <th>size_BTC</th>\n",
       "    </tr>\n",
       "  </thead>\n",
       "  <tbody>\n",
       "    <tr>\n",
       "      <th>0</th>\n",
       "      <td>43697.11</td>\n",
       "      <td>0.149348</td>\n",
       "    </tr>\n",
       "    <tr>\n",
       "      <th>1</th>\n",
       "      <td>43697.12</td>\n",
       "      <td>0.198333</td>\n",
       "    </tr>\n",
       "    <tr>\n",
       "      <th>2</th>\n",
       "      <td>43698.23</td>\n",
       "      <td>0.135539</td>\n",
       "    </tr>\n",
       "    <tr>\n",
       "      <th>3</th>\n",
       "      <td>43699.23</td>\n",
       "      <td>0.078562</td>\n",
       "    </tr>\n",
       "    <tr>\n",
       "      <th>4</th>\n",
       "      <td>43699.24</td>\n",
       "      <td>0.113282</td>\n",
       "    </tr>\n",
       "  </tbody>\n",
       "</table>\n",
       "</div>"
      ],
      "text/plain": [
       "      price  size_BTC\n",
       "0  43697.11  0.149348\n",
       "1  43697.12  0.198333\n",
       "2  43698.23  0.135539\n",
       "3  43699.23  0.078562\n",
       "4  43699.24  0.113282"
      ]
     },
     "execution_count": 31,
     "metadata": {},
     "output_type": "execute_result"
    }
   ],
   "source": [
    "asks.head()"
   ]
  },
  {
   "cell_type": "code",
   "execution_count": null,
   "metadata": {},
   "outputs": [],
   "source": []
  },
  {
   "cell_type": "code",
   "execution_count": 32,
   "metadata": {},
   "outputs": [],
   "source": [
    "asks_100 = asks.loc[asks.price < asks.price[0] + 100, :]"
   ]
  },
  {
   "cell_type": "code",
   "execution_count": 33,
   "metadata": {},
   "outputs": [
    {
     "data": {
      "text/html": [
       "<div>\n",
       "<style scoped>\n",
       "    .dataframe tbody tr th:only-of-type {\n",
       "        vertical-align: middle;\n",
       "    }\n",
       "\n",
       "    .dataframe tbody tr th {\n",
       "        vertical-align: top;\n",
       "    }\n",
       "\n",
       "    .dataframe thead th {\n",
       "        text-align: right;\n",
       "    }\n",
       "</style>\n",
       "<table border=\"1\" class=\"dataframe\">\n",
       "  <thead>\n",
       "    <tr style=\"text-align: right;\">\n",
       "      <th></th>\n",
       "      <th>price</th>\n",
       "      <th>size_BTC</th>\n",
       "    </tr>\n",
       "  </thead>\n",
       "  <tbody>\n",
       "    <tr>\n",
       "      <th>0</th>\n",
       "      <td>43697.11</td>\n",
       "      <td>0.149348</td>\n",
       "    </tr>\n",
       "    <tr>\n",
       "      <th>1</th>\n",
       "      <td>43697.12</td>\n",
       "      <td>0.198333</td>\n",
       "    </tr>\n",
       "    <tr>\n",
       "      <th>2</th>\n",
       "      <td>43698.23</td>\n",
       "      <td>0.135539</td>\n",
       "    </tr>\n",
       "    <tr>\n",
       "      <th>3</th>\n",
       "      <td>43699.23</td>\n",
       "      <td>0.078562</td>\n",
       "    </tr>\n",
       "    <tr>\n",
       "      <th>4</th>\n",
       "      <td>43699.24</td>\n",
       "      <td>0.113282</td>\n",
       "    </tr>\n",
       "  </tbody>\n",
       "</table>\n",
       "</div>"
      ],
      "text/plain": [
       "      price  size_BTC\n",
       "0  43697.11  0.149348\n",
       "1  43697.12  0.198333\n",
       "2  43698.23  0.135539\n",
       "3  43699.23  0.078562\n",
       "4  43699.24  0.113282"
      ]
     },
     "execution_count": 33,
     "metadata": {},
     "output_type": "execute_result"
    }
   ],
   "source": [
    "asks_100.head()"
   ]
  },
  {
   "cell_type": "code",
   "execution_count": 34,
   "metadata": {},
   "outputs": [
    {
     "data": {
      "text/plain": [
       "31.29099432"
      ]
     },
     "execution_count": 34,
     "metadata": {},
     "output_type": "execute_result"
    }
   ],
   "source": [
    "asks_100.size_BTC.sum()"
   ]
  },
  {
   "cell_type": "code",
   "execution_count": 35,
   "metadata": {},
   "outputs": [],
   "source": [
    "df_l2 = pd.DataFrame(BTC_l2)"
   ]
  },
  {
   "cell_type": "code",
   "execution_count": 36,
   "metadata": {},
   "outputs": [
    {
     "data": {
      "text/html": [
       "<div>\n",
       "<style scoped>\n",
       "    .dataframe tbody tr th:only-of-type {\n",
       "        vertical-align: middle;\n",
       "    }\n",
       "\n",
       "    .dataframe tbody tr th {\n",
       "        vertical-align: top;\n",
       "    }\n",
       "\n",
       "    .dataframe thead th {\n",
       "        text-align: right;\n",
       "    }\n",
       "</style>\n",
       "<table border=\"1\" class=\"dataframe\">\n",
       "  <thead>\n",
       "    <tr style=\"text-align: right;\">\n",
       "      <th></th>\n",
       "      <th>type</th>\n",
       "      <th>product_id</th>\n",
       "      <th>changes</th>\n",
       "      <th>time</th>\n",
       "    </tr>\n",
       "  </thead>\n",
       "  <tbody>\n",
       "    <tr>\n",
       "      <th>0</th>\n",
       "      <td>l2update</td>\n",
       "      <td>BTC-USD</td>\n",
       "      <td>[[sell, 43714.89, 0.16820000]]</td>\n",
       "      <td>2021-08-07T10:06:55.530542Z</td>\n",
       "    </tr>\n",
       "    <tr>\n",
       "      <th>1</th>\n",
       "      <td>l2update</td>\n",
       "      <td>BTC-USD</td>\n",
       "      <td>[[buy, 43688.28, 0.00000000]]</td>\n",
       "      <td>2021-08-07T10:06:55.553490Z</td>\n",
       "    </tr>\n",
       "    <tr>\n",
       "      <th>2</th>\n",
       "      <td>l2update</td>\n",
       "      <td>BTC-USD</td>\n",
       "      <td>[[sell, 43697.12, 0.06023311]]</td>\n",
       "      <td>2021-08-07T10:06:55.556273Z</td>\n",
       "    </tr>\n",
       "    <tr>\n",
       "      <th>3</th>\n",
       "      <td>l2update</td>\n",
       "      <td>BTC-USD</td>\n",
       "      <td>[[sell, 43714.89, 0.00000000]]</td>\n",
       "      <td>2021-08-07T10:06:55.558469Z</td>\n",
       "    </tr>\n",
       "    <tr>\n",
       "      <th>4</th>\n",
       "      <td>l2update</td>\n",
       "      <td>BTC-USD</td>\n",
       "      <td>[[buy, 43691.03, 0.16820000]]</td>\n",
       "      <td>2021-08-07T10:06:55.570799Z</td>\n",
       "    </tr>\n",
       "  </tbody>\n",
       "</table>\n",
       "</div>"
      ],
      "text/plain": [
       "       type product_id                         changes  \\\n",
       "0  l2update    BTC-USD  [[sell, 43714.89, 0.16820000]]   \n",
       "1  l2update    BTC-USD   [[buy, 43688.28, 0.00000000]]   \n",
       "2  l2update    BTC-USD  [[sell, 43697.12, 0.06023311]]   \n",
       "3  l2update    BTC-USD  [[sell, 43714.89, 0.00000000]]   \n",
       "4  l2update    BTC-USD   [[buy, 43691.03, 0.16820000]]   \n",
       "\n",
       "                          time  \n",
       "0  2021-08-07T10:06:55.530542Z  \n",
       "1  2021-08-07T10:06:55.553490Z  \n",
       "2  2021-08-07T10:06:55.556273Z  \n",
       "3  2021-08-07T10:06:55.558469Z  \n",
       "4  2021-08-07T10:06:55.570799Z  "
      ]
     },
     "execution_count": 36,
     "metadata": {},
     "output_type": "execute_result"
    }
   ],
   "source": [
    "df_l2.head()"
   ]
  },
  {
   "cell_type": "code",
   "execution_count": null,
   "metadata": {},
   "outputs": [],
   "source": []
  },
  {
   "cell_type": "code",
   "execution_count": 37,
   "metadata": {},
   "outputs": [
    {
     "data": {
      "text/plain": [
       "[{'type': 'l2update',\n",
       "  'product_id': 'BTC-USD',\n",
       "  'changes': [['sell', '43714.89', '0.16820000']],\n",
       "  'time': '2021-08-07T10:06:55.530542Z'},\n",
       " {'type': 'l2update',\n",
       "  'product_id': 'BTC-USD',\n",
       "  'changes': [['buy', '43688.28', '0.00000000']],\n",
       "  'time': '2021-08-07T10:06:55.553490Z'},\n",
       " {'type': 'l2update',\n",
       "  'product_id': 'BTC-USD',\n",
       "  'changes': [['sell', '43697.12', '0.06023311']],\n",
       "  'time': '2021-08-07T10:06:55.556273Z'},\n",
       " {'type': 'l2update',\n",
       "  'product_id': 'BTC-USD',\n",
       "  'changes': [['sell', '43714.89', '0.00000000']],\n",
       "  'time': '2021-08-07T10:06:55.558469Z'},\n",
       " {'type': 'l2update',\n",
       "  'product_id': 'BTC-USD',\n",
       "  'changes': [['buy', '43691.03', '0.16820000']],\n",
       "  'time': '2021-08-07T10:06:55.570799Z'}]"
      ]
     },
     "execution_count": 37,
     "metadata": {},
     "output_type": "execute_result"
    }
   ],
   "source": [
    "BTC_l2[:5]"
   ]
  },
  {
   "cell_type": "code",
   "execution_count": 38,
   "metadata": {},
   "outputs": [],
   "source": [
    "BTC_l2_clean = [{'type':blob['type'],\n",
    " 'product_id':blob['product_id'],\n",
    " 'buy_sell':blob['changes'][0][0],\n",
    " 'price':float(blob['changes'][0][1]),\n",
    " 'amount':float(blob['changes'][0][2]),\n",
    " 'time':blob['time']}\n",
    "for blob in BTC_l2]"
   ]
  },
  {
   "cell_type": "code",
   "execution_count": 39,
   "metadata": {},
   "outputs": [],
   "source": [
    "df_l2 = pd.DataFrame(BTC_l2_clean)"
   ]
  },
  {
   "cell_type": "code",
   "execution_count": 40,
   "metadata": {},
   "outputs": [
    {
     "data": {
      "text/html": [
       "<div>\n",
       "<style scoped>\n",
       "    .dataframe tbody tr th:only-of-type {\n",
       "        vertical-align: middle;\n",
       "    }\n",
       "\n",
       "    .dataframe tbody tr th {\n",
       "        vertical-align: top;\n",
       "    }\n",
       "\n",
       "    .dataframe thead th {\n",
       "        text-align: right;\n",
       "    }\n",
       "</style>\n",
       "<table border=\"1\" class=\"dataframe\">\n",
       "  <thead>\n",
       "    <tr style=\"text-align: right;\">\n",
       "      <th></th>\n",
       "      <th>type</th>\n",
       "      <th>product_id</th>\n",
       "      <th>buy_sell</th>\n",
       "      <th>price</th>\n",
       "      <th>amount</th>\n",
       "      <th>time</th>\n",
       "    </tr>\n",
       "  </thead>\n",
       "  <tbody>\n",
       "    <tr>\n",
       "      <th>0</th>\n",
       "      <td>l2update</td>\n",
       "      <td>BTC-USD</td>\n",
       "      <td>sell</td>\n",
       "      <td>43714.89</td>\n",
       "      <td>0.168200</td>\n",
       "      <td>2021-08-07T10:06:55.530542Z</td>\n",
       "    </tr>\n",
       "    <tr>\n",
       "      <th>1</th>\n",
       "      <td>l2update</td>\n",
       "      <td>BTC-USD</td>\n",
       "      <td>buy</td>\n",
       "      <td>43688.28</td>\n",
       "      <td>0.000000</td>\n",
       "      <td>2021-08-07T10:06:55.553490Z</td>\n",
       "    </tr>\n",
       "    <tr>\n",
       "      <th>2</th>\n",
       "      <td>l2update</td>\n",
       "      <td>BTC-USD</td>\n",
       "      <td>sell</td>\n",
       "      <td>43697.12</td>\n",
       "      <td>0.060233</td>\n",
       "      <td>2021-08-07T10:06:55.556273Z</td>\n",
       "    </tr>\n",
       "    <tr>\n",
       "      <th>3</th>\n",
       "      <td>l2update</td>\n",
       "      <td>BTC-USD</td>\n",
       "      <td>sell</td>\n",
       "      <td>43714.89</td>\n",
       "      <td>0.000000</td>\n",
       "      <td>2021-08-07T10:06:55.558469Z</td>\n",
       "    </tr>\n",
       "    <tr>\n",
       "      <th>4</th>\n",
       "      <td>l2update</td>\n",
       "      <td>BTC-USD</td>\n",
       "      <td>buy</td>\n",
       "      <td>43691.03</td>\n",
       "      <td>0.168200</td>\n",
       "      <td>2021-08-07T10:06:55.570799Z</td>\n",
       "    </tr>\n",
       "  </tbody>\n",
       "</table>\n",
       "</div>"
      ],
      "text/plain": [
       "       type product_id buy_sell     price    amount  \\\n",
       "0  l2update    BTC-USD     sell  43714.89  0.168200   \n",
       "1  l2update    BTC-USD      buy  43688.28  0.000000   \n",
       "2  l2update    BTC-USD     sell  43697.12  0.060233   \n",
       "3  l2update    BTC-USD     sell  43714.89  0.000000   \n",
       "4  l2update    BTC-USD      buy  43691.03  0.168200   \n",
       "\n",
       "                          time  \n",
       "0  2021-08-07T10:06:55.530542Z  \n",
       "1  2021-08-07T10:06:55.553490Z  \n",
       "2  2021-08-07T10:06:55.556273Z  \n",
       "3  2021-08-07T10:06:55.558469Z  \n",
       "4  2021-08-07T10:06:55.570799Z  "
      ]
     },
     "execution_count": 40,
     "metadata": {},
     "output_type": "execute_result"
    }
   ],
   "source": [
    "df_l2.head()"
   ]
  },
  {
   "cell_type": "code",
   "execution_count": 41,
   "metadata": {},
   "outputs": [],
   "source": [
    "df_l2['time_format'] = pd.to_datetime(df_l2.time)"
   ]
  },
  {
   "cell_type": "code",
   "execution_count": 42,
   "metadata": {},
   "outputs": [
    {
     "data": {
      "text/html": [
       "<div>\n",
       "<style scoped>\n",
       "    .dataframe tbody tr th:only-of-type {\n",
       "        vertical-align: middle;\n",
       "    }\n",
       "\n",
       "    .dataframe tbody tr th {\n",
       "        vertical-align: top;\n",
       "    }\n",
       "\n",
       "    .dataframe thead th {\n",
       "        text-align: right;\n",
       "    }\n",
       "</style>\n",
       "<table border=\"1\" class=\"dataframe\">\n",
       "  <thead>\n",
       "    <tr style=\"text-align: right;\">\n",
       "      <th></th>\n",
       "      <th>type</th>\n",
       "      <th>product_id</th>\n",
       "      <th>buy_sell</th>\n",
       "      <th>price</th>\n",
       "      <th>amount</th>\n",
       "      <th>time</th>\n",
       "      <th>time_format</th>\n",
       "    </tr>\n",
       "  </thead>\n",
       "  <tbody>\n",
       "    <tr>\n",
       "      <th>0</th>\n",
       "      <td>l2update</td>\n",
       "      <td>BTC-USD</td>\n",
       "      <td>sell</td>\n",
       "      <td>43714.89</td>\n",
       "      <td>0.168200</td>\n",
       "      <td>2021-08-07T10:06:55.530542Z</td>\n",
       "      <td>2021-08-07 10:06:55.530542+00:00</td>\n",
       "    </tr>\n",
       "    <tr>\n",
       "      <th>1</th>\n",
       "      <td>l2update</td>\n",
       "      <td>BTC-USD</td>\n",
       "      <td>buy</td>\n",
       "      <td>43688.28</td>\n",
       "      <td>0.000000</td>\n",
       "      <td>2021-08-07T10:06:55.553490Z</td>\n",
       "      <td>2021-08-07 10:06:55.553490+00:00</td>\n",
       "    </tr>\n",
       "    <tr>\n",
       "      <th>2</th>\n",
       "      <td>l2update</td>\n",
       "      <td>BTC-USD</td>\n",
       "      <td>sell</td>\n",
       "      <td>43697.12</td>\n",
       "      <td>0.060233</td>\n",
       "      <td>2021-08-07T10:06:55.556273Z</td>\n",
       "      <td>2021-08-07 10:06:55.556273+00:00</td>\n",
       "    </tr>\n",
       "    <tr>\n",
       "      <th>3</th>\n",
       "      <td>l2update</td>\n",
       "      <td>BTC-USD</td>\n",
       "      <td>sell</td>\n",
       "      <td>43714.89</td>\n",
       "      <td>0.000000</td>\n",
       "      <td>2021-08-07T10:06:55.558469Z</td>\n",
       "      <td>2021-08-07 10:06:55.558469+00:00</td>\n",
       "    </tr>\n",
       "    <tr>\n",
       "      <th>4</th>\n",
       "      <td>l2update</td>\n",
       "      <td>BTC-USD</td>\n",
       "      <td>buy</td>\n",
       "      <td>43691.03</td>\n",
       "      <td>0.168200</td>\n",
       "      <td>2021-08-07T10:06:55.570799Z</td>\n",
       "      <td>2021-08-07 10:06:55.570799+00:00</td>\n",
       "    </tr>\n",
       "  </tbody>\n",
       "</table>\n",
       "</div>"
      ],
      "text/plain": [
       "       type product_id buy_sell     price    amount  \\\n",
       "0  l2update    BTC-USD     sell  43714.89  0.168200   \n",
       "1  l2update    BTC-USD      buy  43688.28  0.000000   \n",
       "2  l2update    BTC-USD     sell  43697.12  0.060233   \n",
       "3  l2update    BTC-USD     sell  43714.89  0.000000   \n",
       "4  l2update    BTC-USD      buy  43691.03  0.168200   \n",
       "\n",
       "                          time                      time_format  \n",
       "0  2021-08-07T10:06:55.530542Z 2021-08-07 10:06:55.530542+00:00  \n",
       "1  2021-08-07T10:06:55.553490Z 2021-08-07 10:06:55.553490+00:00  \n",
       "2  2021-08-07T10:06:55.556273Z 2021-08-07 10:06:55.556273+00:00  \n",
       "3  2021-08-07T10:06:55.558469Z 2021-08-07 10:06:55.558469+00:00  \n",
       "4  2021-08-07T10:06:55.570799Z 2021-08-07 10:06:55.570799+00:00  "
      ]
     },
     "execution_count": 42,
     "metadata": {},
     "output_type": "execute_result"
    }
   ],
   "source": [
    "df_l2.head()"
   ]
  },
  {
   "cell_type": "code",
   "execution_count": 43,
   "metadata": {},
   "outputs": [
    {
     "name": "stdout",
     "output_type": "stream",
     "text": [
      "<class 'pandas.core.frame.DataFrame'>\n",
      "RangeIndex: 12527 entries, 0 to 12526\n",
      "Data columns (total 7 columns):\n",
      " #   Column       Non-Null Count  Dtype              \n",
      "---  ------       --------------  -----              \n",
      " 0   type         12527 non-null  object             \n",
      " 1   product_id   12527 non-null  object             \n",
      " 2   buy_sell     12527 non-null  object             \n",
      " 3   price        12527 non-null  float64            \n",
      " 4   amount       12527 non-null  float64            \n",
      " 5   time         12527 non-null  object             \n",
      " 6   time_format  12527 non-null  datetime64[ns, UTC]\n",
      "dtypes: datetime64[ns, UTC](1), float64(2), object(4)\n",
      "memory usage: 685.2+ KB\n"
     ]
    }
   ],
   "source": [
    "df_l2.info()"
   ]
  },
  {
   "cell_type": "code",
   "execution_count": 44,
   "metadata": {},
   "outputs": [],
   "source": [
    "df_l2['dt'] = df_l2.time_format.dt.floor('s')"
   ]
  },
  {
   "cell_type": "code",
   "execution_count": 45,
   "metadata": {},
   "outputs": [
    {
     "data": {
      "text/html": [
       "<div>\n",
       "<style scoped>\n",
       "    .dataframe tbody tr th:only-of-type {\n",
       "        vertical-align: middle;\n",
       "    }\n",
       "\n",
       "    .dataframe tbody tr th {\n",
       "        vertical-align: top;\n",
       "    }\n",
       "\n",
       "    .dataframe thead th {\n",
       "        text-align: right;\n",
       "    }\n",
       "</style>\n",
       "<table border=\"1\" class=\"dataframe\">\n",
       "  <thead>\n",
       "    <tr style=\"text-align: right;\">\n",
       "      <th></th>\n",
       "      <th>type</th>\n",
       "      <th>product_id</th>\n",
       "      <th>buy_sell</th>\n",
       "      <th>price</th>\n",
       "      <th>amount</th>\n",
       "      <th>time</th>\n",
       "      <th>time_format</th>\n",
       "      <th>dt</th>\n",
       "    </tr>\n",
       "  </thead>\n",
       "  <tbody>\n",
       "    <tr>\n",
       "      <th>0</th>\n",
       "      <td>l2update</td>\n",
       "      <td>BTC-USD</td>\n",
       "      <td>sell</td>\n",
       "      <td>43714.89</td>\n",
       "      <td>0.168200</td>\n",
       "      <td>2021-08-07T10:06:55.530542Z</td>\n",
       "      <td>2021-08-07 10:06:55.530542+00:00</td>\n",
       "      <td>2021-08-07 10:06:55+00:00</td>\n",
       "    </tr>\n",
       "    <tr>\n",
       "      <th>1</th>\n",
       "      <td>l2update</td>\n",
       "      <td>BTC-USD</td>\n",
       "      <td>buy</td>\n",
       "      <td>43688.28</td>\n",
       "      <td>0.000000</td>\n",
       "      <td>2021-08-07T10:06:55.553490Z</td>\n",
       "      <td>2021-08-07 10:06:55.553490+00:00</td>\n",
       "      <td>2021-08-07 10:06:55+00:00</td>\n",
       "    </tr>\n",
       "    <tr>\n",
       "      <th>2</th>\n",
       "      <td>l2update</td>\n",
       "      <td>BTC-USD</td>\n",
       "      <td>sell</td>\n",
       "      <td>43697.12</td>\n",
       "      <td>0.060233</td>\n",
       "      <td>2021-08-07T10:06:55.556273Z</td>\n",
       "      <td>2021-08-07 10:06:55.556273+00:00</td>\n",
       "      <td>2021-08-07 10:06:55+00:00</td>\n",
       "    </tr>\n",
       "    <tr>\n",
       "      <th>3</th>\n",
       "      <td>l2update</td>\n",
       "      <td>BTC-USD</td>\n",
       "      <td>sell</td>\n",
       "      <td>43714.89</td>\n",
       "      <td>0.000000</td>\n",
       "      <td>2021-08-07T10:06:55.558469Z</td>\n",
       "      <td>2021-08-07 10:06:55.558469+00:00</td>\n",
       "      <td>2021-08-07 10:06:55+00:00</td>\n",
       "    </tr>\n",
       "    <tr>\n",
       "      <th>4</th>\n",
       "      <td>l2update</td>\n",
       "      <td>BTC-USD</td>\n",
       "      <td>buy</td>\n",
       "      <td>43691.03</td>\n",
       "      <td>0.168200</td>\n",
       "      <td>2021-08-07T10:06:55.570799Z</td>\n",
       "      <td>2021-08-07 10:06:55.570799+00:00</td>\n",
       "      <td>2021-08-07 10:06:55+00:00</td>\n",
       "    </tr>\n",
       "  </tbody>\n",
       "</table>\n",
       "</div>"
      ],
      "text/plain": [
       "       type product_id buy_sell     price    amount  \\\n",
       "0  l2update    BTC-USD     sell  43714.89  0.168200   \n",
       "1  l2update    BTC-USD      buy  43688.28  0.000000   \n",
       "2  l2update    BTC-USD     sell  43697.12  0.060233   \n",
       "3  l2update    BTC-USD     sell  43714.89  0.000000   \n",
       "4  l2update    BTC-USD      buy  43691.03  0.168200   \n",
       "\n",
       "                          time                      time_format  \\\n",
       "0  2021-08-07T10:06:55.530542Z 2021-08-07 10:06:55.530542+00:00   \n",
       "1  2021-08-07T10:06:55.553490Z 2021-08-07 10:06:55.553490+00:00   \n",
       "2  2021-08-07T10:06:55.556273Z 2021-08-07 10:06:55.556273+00:00   \n",
       "3  2021-08-07T10:06:55.558469Z 2021-08-07 10:06:55.558469+00:00   \n",
       "4  2021-08-07T10:06:55.570799Z 2021-08-07 10:06:55.570799+00:00   \n",
       "\n",
       "                         dt  \n",
       "0 2021-08-07 10:06:55+00:00  \n",
       "1 2021-08-07 10:06:55+00:00  \n",
       "2 2021-08-07 10:06:55+00:00  \n",
       "3 2021-08-07 10:06:55+00:00  \n",
       "4 2021-08-07 10:06:55+00:00  "
      ]
     },
     "execution_count": 45,
     "metadata": {},
     "output_type": "execute_result"
    }
   ],
   "source": [
    "df_l2.head()"
   ]
  },
  {
   "cell_type": "code",
   "execution_count": 46,
   "metadata": {},
   "outputs": [],
   "source": [
    "df_buys = df_l2[df_l2.buy_sell == 'buy']"
   ]
  },
  {
   "cell_type": "code",
   "execution_count": 47,
   "metadata": {},
   "outputs": [
    {
     "data": {
      "text/plain": [
       "dt\n",
       "2021-08-07 10:06:55+00:00      0.847458\n",
       "2021-08-07 10:06:56+00:00     13.222886\n",
       "2021-08-07 10:06:57+00:00     14.493795\n",
       "2021-08-07 10:06:58+00:00     27.445927\n",
       "2021-08-07 10:06:59+00:00     27.363430\n",
       "2021-08-07 10:07:00+00:00     25.649707\n",
       "2021-08-07 10:07:01+00:00     29.165152\n",
       "2021-08-07 10:07:02+00:00     50.528995\n",
       "2021-08-07 10:07:03+00:00      8.091091\n",
       "2021-08-07 10:07:04+00:00    102.160583\n",
       "2021-08-07 10:07:05+00:00     50.567466\n",
       "2021-08-07 10:07:06+00:00     31.730528\n",
       "2021-08-07 10:07:07+00:00     63.363477\n",
       "2021-08-07 10:07:08+00:00    134.753734\n",
       "2021-08-07 10:07:09+00:00     15.310242\n",
       "2021-08-07 10:07:10+00:00     16.252025\n",
       "2021-08-07 10:07:11+00:00      6.567075\n",
       "2021-08-07 10:07:12+00:00     16.413400\n",
       "2021-08-07 10:07:13+00:00    120.937036\n",
       "2021-08-07 10:07:14+00:00    120.469174\n",
       "2021-08-07 10:07:15+00:00     30.891426\n",
       "2021-08-07 10:07:16+00:00     19.579364\n",
       "2021-08-07 10:07:17+00:00     13.111049\n",
       "2021-08-07 10:07:18+00:00     79.932670\n",
       "2021-08-07 10:07:19+00:00     37.259064\n",
       "2021-08-07 10:07:20+00:00     70.340781\n",
       "2021-08-07 10:07:21+00:00     22.093054\n",
       "2021-08-07 10:07:22+00:00    128.469128\n",
       "2021-08-07 10:07:23+00:00    107.701690\n",
       "2021-08-07 10:07:24+00:00     52.905007\n",
       "2021-08-07 10:07:25+00:00     83.333116\n",
       "2021-08-07 10:07:26+00:00     95.783220\n",
       "2021-08-07 10:07:27+00:00     22.272046\n",
       "2021-08-07 10:07:28+00:00     48.019079\n",
       "2021-08-07 10:07:29+00:00    101.125129\n",
       "2021-08-07 10:07:30+00:00     30.078559\n",
       "2021-08-07 10:07:31+00:00     30.649291\n",
       "2021-08-07 10:07:32+00:00    127.413588\n",
       "2021-08-07 10:07:33+00:00     46.632255\n",
       "2021-08-07 10:07:34+00:00     56.837327\n",
       "Name: amount, dtype: float64"
      ]
     },
     "execution_count": 47,
     "metadata": {},
     "output_type": "execute_result"
    }
   ],
   "source": [
    "df_buys.groupby('dt').amount.sum()"
   ]
  },
  {
   "cell_type": "code",
   "execution_count": 48,
   "metadata": {},
   "outputs": [],
   "source": [
    "deltas = df_buys.groupby('dt').amount.sum()[1:].pct_change()[1:]"
   ]
  },
  {
   "cell_type": "code",
   "execution_count": 49,
   "metadata": {},
   "outputs": [
    {
     "data": {
      "text/plain": [
       "dt\n",
       "2021-08-07 10:06:57+00:00     0.096114\n",
       "2021-08-07 10:06:58+00:00     0.893633\n",
       "2021-08-07 10:06:59+00:00    -0.003006\n",
       "2021-08-07 10:07:00+00:00    -0.062628\n",
       "2021-08-07 10:07:01+00:00     0.137056\n",
       "2021-08-07 10:07:02+00:00     0.732513\n",
       "2021-08-07 10:07:03+00:00    -0.839872\n",
       "2021-08-07 10:07:04+00:00    11.626306\n",
       "2021-08-07 10:07:05+00:00    -0.505020\n",
       "2021-08-07 10:07:06+00:00    -0.372511\n",
       "2021-08-07 10:07:07+00:00     0.996925\n",
       "2021-08-07 10:07:08+00:00     1.126678\n",
       "2021-08-07 10:07:09+00:00    -0.886384\n",
       "2021-08-07 10:07:10+00:00     0.061513\n",
       "2021-08-07 10:07:11+00:00    -0.595923\n",
       "2021-08-07 10:07:12+00:00     1.499347\n",
       "2021-08-07 10:07:13+00:00     6.368189\n",
       "2021-08-07 10:07:14+00:00    -0.003869\n",
       "2021-08-07 10:07:15+00:00    -0.743574\n",
       "2021-08-07 10:07:16+00:00    -0.366188\n",
       "2021-08-07 10:07:17+00:00    -0.330364\n",
       "2021-08-07 10:07:18+00:00     5.096588\n",
       "2021-08-07 10:07:19+00:00    -0.533869\n",
       "2021-08-07 10:07:20+00:00     0.887884\n",
       "2021-08-07 10:07:21+00:00    -0.685914\n",
       "2021-08-07 10:07:22+00:00     4.814910\n",
       "2021-08-07 10:07:23+00:00    -0.161653\n",
       "2021-08-07 10:07:24+00:00    -0.508782\n",
       "2021-08-07 10:07:25+00:00     0.575146\n",
       "2021-08-07 10:07:26+00:00     0.149402\n",
       "2021-08-07 10:07:27+00:00    -0.767474\n",
       "2021-08-07 10:07:28+00:00     1.156025\n",
       "2021-08-07 10:07:29+00:00     1.105936\n",
       "2021-08-07 10:07:30+00:00    -0.702561\n",
       "2021-08-07 10:07:31+00:00     0.018975\n",
       "2021-08-07 10:07:32+00:00     3.157146\n",
       "2021-08-07 10:07:33+00:00    -0.634009\n",
       "2021-08-07 10:07:34+00:00     0.218841\n",
       "Name: amount, dtype: float64"
      ]
     },
     "execution_count": 49,
     "metadata": {},
     "output_type": "execute_result"
    }
   ],
   "source": [
    "deltas"
   ]
  },
  {
   "cell_type": "code",
   "execution_count": null,
   "metadata": {},
   "outputs": [],
   "source": [
    "# time change logic [.125, .125 * (1+.7), "
   ]
  },
  {
   "cell_type": "markdown",
   "metadata": {},
   "source": [
    "# BTC Make Music"
   ]
  },
  {
   "cell_type": "code",
   "execution_count": 50,
   "metadata": {},
   "outputs": [],
   "source": [
    "t = .14\n",
    "\n",
    "for i in deltas:\n",
    "    #if i % 4 == 0:\n",
    "        #t = float(round(times[i//4] + .125, 3))\n",
    "        #print(t)\n",
    "    t = t * (1+i)\n",
    "    beat = Metro(time = t, poly=1).play()\n",
    "    envelope = CosTable([(0,0), (100,1), (500,.3), (8191,0)])\n",
    "    amplitude = TrigEnv(beat, table=envelope, dur=.25, mul=0.7)\n",
    "    pitch = TrigXnoiseMidi(beat, dist=8, scale=0, mrange=(48,96))\n",
    "    \n",
    "    oscillator = Osc(table=wav, freq=pitch, mul=amplitude).out()\n",
    "    \n",
    "    time.sleep(1)"
   ]
  },
  {
   "cell_type": "code",
   "execution_count": 51,
   "metadata": {},
   "outputs": [
    {
     "data": {
      "text/plain": [
       "< Instance of Osc class >"
      ]
     },
     "execution_count": 51,
     "metadata": {},
     "output_type": "execute_result"
    }
   ],
   "source": [
    "oscillator.stop()"
   ]
  },
  {
   "cell_type": "code",
   "execution_count": null,
   "metadata": {},
   "outputs": [],
   "source": []
  },
  {
   "cell_type": "code",
   "execution_count": null,
   "metadata": {},
   "outputs": [],
   "source": []
  },
  {
   "cell_type": "code",
   "execution_count": null,
   "metadata": {},
   "outputs": [],
   "source": []
  }
 ],
 "metadata": {
  "kernelspec": {
   "display_name": "Python 3",
   "language": "python",
   "name": "python3"
  },
  "language_info": {
   "codemirror_mode": {
    "name": "ipython",
    "version": 3
   },
   "file_extension": ".py",
   "mimetype": "text/x-python",
   "name": "python",
   "nbconvert_exporter": "python",
   "pygments_lexer": "ipython3",
   "version": "3.8.5"
  }
 },
 "nbformat": 4,
 "nbformat_minor": 4
}
